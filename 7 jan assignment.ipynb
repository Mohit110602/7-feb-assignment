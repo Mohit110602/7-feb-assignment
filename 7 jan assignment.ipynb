{
 "cells": [
  {
   "cell_type": "code",
   "execution_count": 1,
   "id": "17c38f33-4315-4c74-a263-d34201ad9e89",
   "metadata": {},
   "outputs": [],
   "source": [
    "#1)\n",
    "def password(password):\n",
    "    import re\n",
    "    number_counter=0\n",
    "    char_counter=0\n",
    "    upper_counter=0\n",
    "    lower_counter=0\n",
    "    if len(password)==10:\n",
    "        \n",
    "        for i in password:\n",
    "            if ord(i)>=48 and ord(i)<=57:\n",
    "                number_counter=number_counter+1\n",
    "                \n",
    "            elif (ord(i)>=32 and ord(i)<=47) or (ord(i)>=58 and ord(i)<=64) or (ord(i)>=91 and ord(i)<=96) or (ord(i)>=123 and ord(i)<=126):\n",
    "                char_counter=char_counter+1\n",
    "                \n",
    "            elif i.isupper()==True:\n",
    "                upper_counter=upper_counter+1\n",
    "                \n",
    "            elif i.islower()==True:\n",
    "                lower_counter=lower_counter+1\n",
    "                \n",
    "    else:\n",
    "        pass\n",
    "   \n",
    "    if number_counter>=1 and char_counter>=3 and upper_counter>=2 and lower_counter>=2:\n",
    "        return 'Valid Password'\n",
    "    else:\n",
    "        return 'Invalid Password'\n",
    "    \n",
    "    "
   ]
  },
  {
   "cell_type": "code",
   "execution_count": 2,
   "id": "88f065c6-7bcd-4d53-b99f-7181ccf90e64",
   "metadata": {},
   "outputs": [
    {
     "name": "stdout",
     "output_type": "stream",
     "text": [
      "Valid Password\n"
     ]
    }
   ],
   "source": [
    "print(password('AB@$%cd123'))"
   ]
  },
  {
   "cell_type": "code",
   "execution_count": 4,
   "id": "b0fc9d03-cf55-4837-ab94-eb15d32e7925",
   "metadata": {},
   "outputs": [
    {
     "name": "stdout",
     "output_type": "stream",
     "text": [
      "Invalid Password\n"
     ]
    }
   ],
   "source": [
    "print(password('ABcd@#1234'))"
   ]
  },
  {
   "cell_type": "code",
   "execution_count": 3,
   "id": "6ef1bb13-2b86-462f-852b-ccf9ca18a6e8",
   "metadata": {},
   "outputs": [
    {
     "name": "stdin",
     "output_type": "stream",
     "text": [
      "Enter any string:  pwksills\n",
      "Enter any character:  p\n"
     ]
    },
    {
     "name": "stdout",
     "output_type": "stream",
     "text": [
      "Yes, pwksills starts with p\n"
     ]
    }
   ],
   "source": [
    "#2)\n",
    "#i)\n",
    "s=input('Enter any string: ')\n",
    "c=input('Enter any character: ')\n",
    "l=[print('Yes,',s,'starts with',c) if s.startswith(c)==True else print('No,',s,'does not starts with',c)]"
   ]
  },
  {
   "cell_type": "code",
   "execution_count": 4,
   "id": "9d1c56d0-54c2-49a1-beb7-a360cb279959",
   "metadata": {},
   "outputs": [
    {
     "name": "stdin",
     "output_type": "stream",
     "text": [
      "Enter any string:  545422435\n"
     ]
    },
    {
     "name": "stdout",
     "output_type": "stream",
     "text": [
      "Yes, 545422435 is numeric\n"
     ]
    }
   ],
   "source": [
    "#ii)\n",
    "s=input('Enter any string: ')\n",
    "l=[print('Yes,',s,'is numeric') if s.isnumeric()==True else print('no',s,'is not numeric')]"
   ]
  },
  {
   "cell_type": "code",
   "execution_count": 11,
   "id": "b5895e31-d83b-49c7-87f0-d6c66001a5fd",
   "metadata": {},
   "outputs": [
    {
     "name": "stdout",
     "output_type": "stream",
     "text": [
      "[('grapes', 1000), ('mango', 99), ('orange', 80)]\n"
     ]
    }
   ],
   "source": [
    "#iii)\n",
    "l=[(\"mango\",99),(\"orange\",80), (\"grapes\", 1000)]\n",
    "d=dict(l)\n",
    "d_sorted={}\n",
    "l_keys=[i for i in d.keys()]\n",
    "l_keys.sort()\n",
    "for i in l_keys:\n",
    "    d_sorted[i]=d[i]\n",
    "l=list(d_sorted.items())\n",
    "print(l)"
   ]
  },
  {
   "cell_type": "code",
   "execution_count": 5,
   "id": "e7b15b98-3120-4508-9365-2ccd061816ef",
   "metadata": {},
   "outputs": [
    {
     "name": "stdout",
     "output_type": "stream",
     "text": [
      "[1, 4, 9, 16, 25, 36, 49, 64, 81, 100]\n"
     ]
    }
   ],
   "source": [
    "#iv)\n",
    "l=[]\n",
    "for i in range(1,11):\n",
    "    l.append(i)\n",
    "print(list(map(lambda x:x**2,l)))"
   ]
  },
  {
   "cell_type": "code",
   "execution_count": 6,
   "id": "423446f0-5422-48d9-917d-c9918350df45",
   "metadata": {},
   "outputs": [
    {
     "name": "stdout",
     "output_type": "stream",
     "text": [
      "[1.0, 1.2599210498948732, 1.4422495703074083, 1.5874010519681994, 1.7099759466766968, 1.8171205928321397, 1.912931182772389, 2.0, 2.080083823051904, 2.154434690031884]\n"
     ]
    }
   ],
   "source": [
    "#v)\n",
    "l=[]\n",
    "for i in range(1,11):\n",
    "    l.append(i)\n",
    "print(list(map(lambda x:x**(1/3),l)))"
   ]
  },
  {
   "cell_type": "code",
   "execution_count": 7,
   "id": "4f6b7044-3d1d-48ba-b2f3-161c0dd60e89",
   "metadata": {},
   "outputs": [
    {
     "name": "stdin",
     "output_type": "stream",
     "text": [
      "Enter any no.:  6789876\n"
     ]
    },
    {
     "name": "stdout",
     "output_type": "stream",
     "text": [
      "No. is even\n"
     ]
    }
   ],
   "source": [
    "#vi)\n",
    "n=int(input('Enter any no.: '))\n",
    "l=[print('No. is even') if n%2==0 else None]"
   ]
  },
  {
   "cell_type": "code",
   "execution_count": 10,
   "id": "cdf3a021-9a99-4ff9-925b-eebc28f99a67",
   "metadata": {},
   "outputs": [
    {
     "name": "stdout",
     "output_type": "stream",
     "text": [
      "[2, 4, 6, 8, 10]\n"
     ]
    }
   ],
   "source": [
    "#vii)\n",
    "l=[1,2,3,4,5,6,7,8,9,10]\n",
    "print(list(filter(lambda x:x%2==0,l)))"
   ]
  },
  {
   "cell_type": "code",
   "execution_count": 9,
   "id": "74315c8d-0293-4104-8a59-7be409bb66a9",
   "metadata": {},
   "outputs": [
    {
     "name": "stdout",
     "output_type": "stream",
     "text": [
      "[1, 2, 3, 4, 5, 6]\n",
      "[-1, -2, -3, -4, -5]\n"
     ]
    }
   ],
   "source": [
    "#viii)\n",
    "l=[1,2,3,4,5,6,-1,-2,-3,-4,-5,0]\n",
    "l_positive=list(filter(lambda x:x>0,l))\n",
    "l_negative=list(filter(lambda x:x<0,l))\n",
    "print(l_positive)\n",
    "print(l_negative)"
   ]
  },
  {
   "cell_type": "code",
   "execution_count": null,
   "id": "88c85502-b50a-4d48-b98e-d26d7faa5d01",
   "metadata": {},
   "outputs": [],
   "source": []
  }
 ],
 "metadata": {
  "kernelspec": {
   "display_name": "Python 3 (ipykernel)",
   "language": "python",
   "name": "python3"
  },
  "language_info": {
   "codemirror_mode": {
    "name": "ipython",
    "version": 3
   },
   "file_extension": ".py",
   "mimetype": "text/x-python",
   "name": "python",
   "nbconvert_exporter": "python",
   "pygments_lexer": "ipython3",
   "version": "3.10.8"
  }
 },
 "nbformat": 4,
 "nbformat_minor": 5
}
